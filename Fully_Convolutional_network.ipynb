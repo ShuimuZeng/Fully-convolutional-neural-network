{
  "nbformat": 4,
  "nbformat_minor": 0,
  "metadata": {
    "colab": {
      "provenance": [],
      "authorship_tag": "ABX9TyPZVAS3gvCFtePM6I+5F9az",
      "include_colab_link": true
    },
    "kernelspec": {
      "name": "python3",
      "display_name": "Python 3"
    },
    "language_info": {
      "name": "python"
    }
  },
  "cells": [
    {
      "cell_type": "markdown",
      "metadata": {
        "id": "view-in-github",
        "colab_type": "text"
      },
      "source": [
        "<a href=\"https://colab.research.google.com/github/ShuimuZeng/Fully-convolutional-neural-network/blob/main/Fully_Convolutional_network.ipynb\" target=\"_parent\"><img src=\"https://colab.research.google.com/assets/colab-badge.svg\" alt=\"Open In Colab\"/></a>"
      ]
    },
    {
      "cell_type": "code",
      "source": [
        "import tensorflow as tf"
      ],
      "metadata": {
        "id": "f_5b_ZpDzd--"
      },
      "execution_count": null,
      "outputs": []
    },
    {
      "cell_type": "code",
      "execution_count": null,
      "metadata": {
        "id": "di57Izdvy-tV"
      },
      "outputs": [],
      "source": [
        "\n",
        "\n",
        "def create_fcn(input_shape, num_classes):\n",
        "    \"\"\"\n",
        "    Creates a Fully Convolutional Network (FCN).\n",
        "\n",
        "    Args:\n",
        "        input_shape: Shape of the input tensor.\n",
        "        num_classes: Number of classes.\n",
        "\n",
        "    Returns:\n",
        "        A TensorFlow Keras model.\n",
        "    \"\"\"\n",
        "\n",
        "    # Input layer\n",
        "    inputs = tf.keras.Input(shape=input_shape)\n",
        "\n",
        "    # Convolutional layers\n",
        "    x = tf.keras.layers.Conv2D(64, (3, 3), activation='relu', padding='same')(inputs)\n",
        "    x = tf.keras.layers.Conv2D(64, (3, 3), activation='relu', padding='same')(x)\n",
        "    x = tf.keras.layers.MaxPooling2D((2, 2))(x)\n",
        "\n",
        "    x = tf.keras.layers.Conv2D(128, (3, 3), activation='relu', padding='same')(x)\n",
        "    x = tf.keras.layers.Conv2D(128, (3, 3), activation='relu', padding='same')(x)\n",
        "    x = tf.keras.layers.MaxPooling2D((2, 2))(x)\n",
        "\n",
        "    x = tf.keras.layers.Conv2D(256, (3, 3), activation='relu', padding='same')(x)\n",
        "    x = tf.keras.layers.Conv2D(256, (3, 3), activation='relu', padding='same')(x)\n",
        "    x = tf.keras.layers.Conv2D(256, (3, 3), activation='relu', padding='same')(x)\n",
        "    x = tf.keras.layers.MaxPooling2D((2, 2))(x)\n",
        "\n",
        "    # Upsampling layers\n",
        "    x = tf.keras.layers.Conv2DTranspose(128, (3, 3), strides=(2, 2), activation='relu', padding='same')(x)\n",
        "    x = tf.keras.layers.Conv2D(128, (3, 3), activation='relu', padding='same')(x)\n",
        "    x = tf.keras.layers.Conv2D(128, (3, 3), activation='relu', padding='same')(x)\n",
        "\n",
        "    x = tf.keras.layers.Conv2DTranspose(64, (3, 3), strides=(2, 2), activation='relu', padding='same')(x)\n",
        "    x = tf.keras.layers.Conv2D(64, (3, 3), activation='relu', padding='same')(x)\n",
        "    x = tf.keras.layers.Conv2D(64, (3, 3), activation='relu', padding='same')(x)\n",
        "\n",
        "    # Output layer\n",
        "    outputs = tf.keras.layers.Conv2D(num_classes, (1, 1), activation='softmax', padding='same')(x)\n",
        "\n",
        "    # Create the model\n",
        "    model = tf.keras.Model(inputs=inputs, outputs=outputs)\n",
        "\n",
        "    return model\n",
        "\n",
        "# Example usage\n",
        "input_shape = (224, 224, 3)  # Example input shape\n",
        "num_classes = 10  # Example number of classes\n",
        "\n",
        "model = create_fcn(input_shape, num_classes)\n",
        "model.summary()"
      ]
    },
    {
      "cell_type": "markdown",
      "source": [
        "Reasoning:\n",
        "\n",
        "Import TensorFlow: Imports the TensorFlow library.\n",
        "Define the FCN function: This function creates the FCN model using the Keras functional API.\n",
        "Input layer: Defines the input layer with the specified shape.\n",
        "Convolutional layers: A series of convolutional layers with ReLU activation and max pooling for feature extraction.\n",
        "Upsampling layers: Transposed convolutions are used for upsampling to restore the original image resolution.\n",
        "Output layer: A final convolutional layer with softmax activation for pixel-wise classification.\n",
        "Create the model: Assembles the layers into a Keras model.\n",
        "Example usage: Demonstrates how to create and summarize the FCN model.\n",
        "This code provides a basic FCN architecture. You can modify it further by adding more layers, changing the activation functions, or using different types of layers. Remember to compile and train the model with your data for your specific task."
      ],
      "metadata": {
        "id": "wrUJ9o1fzbTd"
      }
    }
  ]
}